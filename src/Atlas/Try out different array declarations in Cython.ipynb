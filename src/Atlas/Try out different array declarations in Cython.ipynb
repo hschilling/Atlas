{
 "metadata": {
  "name": ""
 },
 "nbformat": 3,
 "nbformat_minor": 0,
 "worksheets": [
  {
   "cells": [
    {
     "cell_type": "code",
     "collapsed": false,
     "input": [
      "%load_ext cythonmagic"
     ],
     "language": "python",
     "metadata": {},
     "outputs": [],
     "prompt_number": 1
    },
    {
     "cell_type": "code",
     "collapsed": false,
     "input": [
      "%%cython\n",
      "cimport cython\n",
      "import numpy as np\n",
      "\n",
      "cimport numpy as np\n",
      "\n",
      "\n",
      "def mysum_double():\n",
      "    cdef int i\n",
      "    cdef double s\n",
      "    cdef double[:] a\n",
      "    cdef int N \n",
      "    \n",
      "    N = 100000\n",
      "    a = np.zeros( N, dtype = np.double )\n",
      "    \n",
      "    for i in range(N):\n",
      "        s += a[i]\n",
      "    return s"
     ],
     "language": "python",
     "metadata": {},
     "outputs": [],
     "prompt_number": 21
    },
    {
     "cell_type": "code",
     "collapsed": false,
     "input": [
      "%timeit mysum_double()"
     ],
     "language": "python",
     "metadata": {},
     "outputs": [
      {
       "output_type": "stream",
       "stream": "stdout",
       "text": [
        "10000 loops, best of 3: 118 \u00b5s per loop\n"
       ]
      }
     ],
     "prompt_number": 23
    },
    {
     "cell_type": "code",
     "collapsed": false,
     "input": [
      "%%cython\n",
      "cimport cython\n",
      "import numpy as np\n",
      "\n",
      "cimport numpy as np\n",
      "\n",
      "\n",
      "def mysum_np():\n",
      "    cdef int i\n",
      "    cdef double s\n",
      "    cdef np.ndarray[ np.double_t, ndim=1] a\n",
      "    cdef int N \n",
      "    \n",
      "    N = 100000\n",
      "    a = np.zeros( N, dtype = np.double )\n",
      "    \n",
      "    for i in range(N):\n",
      "        s += a[i]\n",
      "    return s"
     ],
     "language": "python",
     "metadata": {},
     "outputs": [],
     "prompt_number": 24
    },
    {
     "cell_type": "code",
     "collapsed": false,
     "input": [
      "%timeit mysum_np()"
     ],
     "language": "python",
     "metadata": {},
     "outputs": [
      {
       "output_type": "stream",
       "stream": "stdout",
       "text": [
        "10000 loops, best of 3: 117 \u00b5s per loop\n"
       ]
      }
     ],
     "prompt_number": 26
    },
    {
     "cell_type": "heading",
     "level": 4,
     "metadata": {},
     "source": [
      "Using memoryviews and Cython arrays from http://docs.cython.org/src/userguide/memoryviews.html"
     ]
    },
    {
     "cell_type": "code",
     "collapsed": false,
     "input": [
      "%%cython\n",
      "cimport cython\n",
      "import numpy as np\n",
      "\n",
      "cimport numpy as np\n",
      "from cython.view cimport array as cvarray\n",
      "\n",
      "def mysum_double_memviews():\n",
      "    cdef int i\n",
      "    cdef double s\n",
      "    cdef double[:] a\n",
      "    cdef int N \n",
      "    \n",
      "    N = 100000\n",
      "    a = cvarray(shape=(N,), itemsize=sizeof(double), format=\"d\")\n",
      "    \n",
      "    for i in range(N):\n",
      "        s += a[i]\n",
      "    return s"
     ],
     "language": "python",
     "metadata": {},
     "outputs": [],
     "prompt_number": 29
    },
    {
     "cell_type": "code",
     "collapsed": false,
     "input": [
      "%timeit mysum_double_memviews()"
     ],
     "language": "python",
     "metadata": {},
     "outputs": [
      {
       "output_type": "stream",
       "stream": "stdout",
       "text": [
        "10000 loops, best of 3: 90.9 \u00b5s per loop\n"
       ]
      }
     ],
     "prompt_number": 30
    },
    {
     "cell_type": "code",
     "collapsed": false,
     "input": [],
     "language": "python",
     "metadata": {},
     "outputs": []
    }
   ],
   "metadata": {}
  }
 ]
}